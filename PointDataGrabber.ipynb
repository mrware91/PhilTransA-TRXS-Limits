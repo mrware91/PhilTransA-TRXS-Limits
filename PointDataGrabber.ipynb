{
 "cells": [
  {
   "cell_type": "markdown",
   "metadata": {},
   "source": [
    "# Experiment and path specification"
   ]
  },
  {
   "cell_type": "code",
   "execution_count": 2,
   "metadata": {},
   "outputs": [],
   "source": [
    "# Specify the experiment for analysis\n",
    "experiment='xppl2816'\n",
    "runNumber = 74\n",
    "\n",
    "# Set the installation and output path\n",
    "import os\n",
    "os.environ['INSTALLPATH']='/reg/neh/home4/mrware/PhilTransA-TRXS-Limits'\n",
    "os.environ['OUTPUTPATH']= '/reg/d/psdm/%s/%s/scratch' % (experiment[0:3],experiment)"
   ]
  },
  {
   "cell_type": "markdown",
   "metadata": {},
   "source": [
    "# Import Libraries"
   ]
  },
  {
   "cell_type": "code",
   "execution_count": 3,
   "metadata": {},
   "outputs": [
    {
     "name": "stdout",
     "output_type": "stream",
     "text": [
      "mrware\n",
      "\n"
     ]
    },
    {
     "ename": "OSError",
     "evalue": "[Errno 17] File exists: '/reg/d/psdm/xpp/xppl2816/res/mrware'",
     "output_type": "error",
     "traceback": [
      "\u001b[0;31m\u001b[0m",
      "\u001b[0;31mOSError\u001b[0mTraceback (most recent call last)",
      "\u001b[0;32m<ipython-input-3-950368d9d5fb>\u001b[0m in \u001b[0;36m<module>\u001b[0;34m()\u001b[0m\n\u001b[1;32m     11\u001b[0m \u001b[0mos\u001b[0m\u001b[0;34m.\u001b[0m\u001b[0menviron\u001b[0m\u001b[0;34m[\u001b[0m\u001b[0;34m'RESULTSPATH'\u001b[0m\u001b[0;34m]\u001b[0m\u001b[0;34m=\u001b[0m \u001b[0;34m(\u001b[0m\u001b[0;34m'/reg/d/psdm/%s/%s/res/%s'\u001b[0m \u001b[0;34m%\u001b[0m \u001b[0;34m(\u001b[0m\u001b[0mexperiment\u001b[0m\u001b[0;34m[\u001b[0m\u001b[0;36m0\u001b[0m\u001b[0;34m:\u001b[0m\u001b[0;36m3\u001b[0m\u001b[0;34m]\u001b[0m\u001b[0;34m,\u001b[0m\u001b[0mexperiment\u001b[0m\u001b[0;34m,\u001b[0m\u001b[0mcurrentUser\u001b[0m\u001b[0;34m)\u001b[0m\u001b[0;34m)\u001b[0m\u001b[0;34m.\u001b[0m\u001b[0mstrip\u001b[0m\u001b[0;34m(\u001b[0m\u001b[0;34m)\u001b[0m\u001b[0;34m\u001b[0m\u001b[0m\n\u001b[1;32m     12\u001b[0m \u001b[0;32mif\u001b[0m \u001b[0;34m~\u001b[0m\u001b[0mos\u001b[0m\u001b[0;34m.\u001b[0m\u001b[0mpath\u001b[0m\u001b[0;34m.\u001b[0m\u001b[0mexists\u001b[0m\u001b[0;34m(\u001b[0m\u001b[0mos\u001b[0m\u001b[0;34m.\u001b[0m\u001b[0menviron\u001b[0m\u001b[0;34m[\u001b[0m\u001b[0;34m'RESULTSPATH'\u001b[0m\u001b[0;34m]\u001b[0m\u001b[0;34m)\u001b[0m\u001b[0;34m:\u001b[0m\u001b[0;34m\u001b[0m\u001b[0m\n\u001b[0;32m---> 13\u001b[0;31m     \u001b[0mos\u001b[0m\u001b[0;34m.\u001b[0m\u001b[0mmkdir\u001b[0m\u001b[0;34m(\u001b[0m\u001b[0mos\u001b[0m\u001b[0;34m.\u001b[0m\u001b[0menviron\u001b[0m\u001b[0;34m[\u001b[0m\u001b[0;34m'RESULTSPATH'\u001b[0m\u001b[0;34m]\u001b[0m\u001b[0;34m)\u001b[0m\u001b[0;34m\u001b[0m\u001b[0m\n\u001b[0m",
      "\u001b[0;31mOSError\u001b[0m: [Errno 17] File exists: '/reg/d/psdm/xpp/xppl2816/res/mrware'"
     ]
    }
   ],
   "source": [
    "# Magic iPython command to enable plotting\n",
    "%matplotlib inline\n",
    "\n",
    "# Load in the pythonBatchMagic library\n",
    "import sys\n",
    "sys.path.insert(0, os.environ['INSTALLPATH']+'/Libraries/pythonBatchMagic')\n",
    "from pythonBatchMagic import *\n",
    "# Determine current user\n",
    "currentUser, error = unixCMD(\"echo $USER\")\n",
    "print(currentUser)\n",
    "os.environ['RESULTSPATH']= ('/reg/d/psdm/%s/%s/res/%s' % (experiment[0:3],experiment,currentUser)).strip()\n",
    "if not os.path.exists(os.environ['RESULTSPATH']):\n",
    "    os.mkdir(os.environ['RESULTSPATH'])"
   ]
  },
  {
   "cell_type": "markdown",
   "metadata": {},
   "source": [
    "# Leveraging the batch queue to quickly grab point data"
   ]
  },
  {
   "cell_type": "markdown",
   "metadata": {},
   "source": [
    "## Loading libraries"
   ]
  },
  {
   "cell_type": "code",
   "execution_count": 4,
   "metadata": {},
   "outputs": [
    {
     "name": "stdout",
     "output_type": "stream",
     "text": [
      "/reg/d/psdm/xpp/xppl2816/scratch/Memories/getCSPADcoords remembered!\n"
     ]
    }
   ],
   "source": [
    "sys.path.insert(0, os.environ['INSTALLPATH']+'/Libraries/LCLS')\n",
    "from LCLSdefault import *\n",
    "\n",
    "sys.path.insert(0, os.environ['INSTALLPATH']+'/Libraries/mattsTools')\n",
    "from picklez import *\n",
    "\n",
    "# Load in the get data library\n",
    "from dataAnalysis import *\n",
    "\n",
    "# Load in the batch library for lcls\n",
    "from lclsBatch import *"
   ]
  },
  {
   "cell_type": "markdown",
   "metadata": {},
   "source": [
    "## Grabbing point data across nodes"
   ]
  },
  {
   "cell_type": "code",
   "execution_count": null,
   "metadata": {},
   "outputs": [],
   "source": [
    "\n",
    "detDict = {'opaint':{'name':'XppEnds_Ipm0','get-function': 'getIPM' },\n",
    "           'xint3':{'name':'XppSb3_Ipm','get-function': 'getIPM' },\n",
    "           'xpos3':{'name':'XppSb3_Ipm','get-function': 'getXPos' },\n",
    "           'ypos3':{'name':'XppSb3_Ipm','get-function': 'getYPos' },\n",
    "           'xint2':{'name':'XppSb2_Ipm','get-function': 'getIPM' },\n",
    "           'xpos2':{'name':'XppSb2_Ipm','get-function': 'getXPos' },\n",
    "           'ypos2':{'name':'XppSb2_Ipm','get-function': 'getYPos' },\n",
    "           'xrayEnergy':{'name':'SIOC:SYS0:ML00:AO541','get-function': 'getXrayEnergy' },\n",
    "          'stageencoder':{'name':'XppEndstation.0:USDUSB.0','get-function':'getStageEncoder'},\n",
    "          'ttfltpos':{'name':'XPP:TIMETOOL:FLTPOS', 'get-function': 'getTTFltPos'},\n",
    "          'ebeamcharge':{'name':'EBeam', 'get-function': 'getEbeamCharge'},\n",
    "          'fltposfwhm':{'name':'XPP:TIMETOOL:FLTPOSFWHM', 'get-function': 'getFltPosFWHM'},\n",
    "          'seconds':{'name':'seconds', 'get-function': 'getSeconds'},\n",
    "          'nanoseconds':{'name':'nanonseconds', 'get-function': 'getNanoseconds'},\n",
    "          'fiducials':{'name':'fiducials', 'get-function': 'getFiducials'},\n",
    "          'cspadSum':{'name':'fiducials', 'get-function': 'getCSPADsum'},\n",
    "          'cspadMedian':{'name':'fiducials', 'get-function': 'getCSPADmedian'}}\n",
    "\n",
    "\n",
    "# Lookup={'EbeamCharge':None, 'XrayPulseEnergy':None, 'TTRefAmpl':None, 'TTFltPos':None,\n",
    "#     'TTAmpl':None, 'TTFltPosFWHM':None, 'CSPAD':{'Integrated':None, 'Median':None}, \n",
    "#     'XrayIpm3':{'X':None, 'Y':None,'Sum':None},\n",
    "#     'XrayIpm2':{'X':None, 'Y':None,'Sum':None}, 'OPAIpm':None}\n",
    "\n",
    "batchThreads = batchPointDataGrabber( detDict, eventMax=1e5, experiment='xppl2816', runNumber=runNumber, rank=100 )\n",
    "batchThreads.Queue = 'psanaq'\n",
    "batchThreads.start()"
   ]
  },
  {
   "cell_type": "markdown",
   "metadata": {},
   "source": [
    "## Check job status"
   ]
  },
  {
   "cell_type": "code",
   "execution_count": null,
   "metadata": {},
   "outputs": [],
   "source": [
    "stdoutdata, stderrdata = bjobs()\n",
    "print stdoutdata\n",
    "print stderrdata"
   ]
  },
  {
   "cell_type": "markdown",
   "metadata": {},
   "source": [
    "## Kill threads if they die"
   ]
  },
  {
   "cell_type": "code",
   "execution_count": null,
   "metadata": {},
   "outputs": [],
   "source": [
    "# batchThreads.requestStop()\n",
    "# time.sleep(5)\n",
    "# bkill(killAll=True)"
   ]
  },
  {
   "cell_type": "code",
   "execution_count": null,
   "metadata": {},
   "outputs": [],
   "source": [
    "batchThreads.status"
   ]
  },
  {
   "cell_type": "markdown",
   "metadata": {},
   "source": [
    "## Drop empty array values"
   ]
  },
  {
   "cell_type": "code",
   "execution_count": null,
   "metadata": {},
   "outputs": [],
   "source": [
    "pointData = batchThreads.detArrays\n",
    "\n",
    "def dropEmpty(pointData):\n",
    "\n",
    "    filledBin = (pointData['seconds'] > 0)\n",
    "\n",
    "    for key in pointData.keys():\n",
    "        pointData[key]=pointData[key][filledBin] \n",
    "        \n",
    "    return pointData\n",
    "\n",
    "pointData = dropEmpty(pointData)\n"
   ]
  },
  {
   "cell_type": "markdown",
   "metadata": {},
   "source": [
    "## Save/Load point data"
   ]
  },
  {
   "cell_type": "code",
   "execution_count": 5,
   "metadata": {},
   "outputs": [
    {
     "name": "stdout",
     "output_type": "stream",
     "text": [
      "/reg/d/psdm/xpp/xppl2816/res/mrware/pointData-run-74 remembered!\n"
     ]
    }
   ],
   "source": [
    "# save_obj( pointData, os.environ['RESULTSPATH']+'/pointData-run-%d' % runNumber )\n",
    "pointData = load_obj( os.environ['RESULTSPATH']+'/pointData-run-%d' % runNumber )"
   ]
  },
  {
   "cell_type": "markdown",
   "metadata": {},
   "source": [
    "## Plot histogram of result"
   ]
  },
  {
   "cell_type": "code",
   "execution_count": null,
   "metadata": {},
   "outputs": [],
   "source": [
    "detArrays = pointData\n",
    "\n",
    "fig2, ax2 = plt.subplots(1, 1)\n",
    "ax2.hist(detArrays['ebeamcharge'], bins=100,normed=False, alpha=0.5);"
   ]
  }
 ],
 "metadata": {
  "kernelspec": {
   "display_name": "Python 2 ana-1.3.9",
   "language": "python",
   "name": "ana-1.3.9"
  },
  "language_info": {
   "codemirror_mode": {
    "name": "ipython",
    "version": 2
   },
   "file_extension": ".py",
   "mimetype": "text/x-python",
   "name": "python",
   "nbconvert_exporter": "python",
   "pygments_lexer": "ipython2",
   "version": "2.7.13"
  }
 },
 "nbformat": 4,
 "nbformat_minor": 2
}
